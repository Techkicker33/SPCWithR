{
 "cells": [
  {
   "cell_type": "code",
   "execution_count": null,
   "metadata": {
    "collapsed": true
   },
   "outputs": [],
   "source": [
    "# R package spc provides\n",
    "\n",
    "# xcusum.ad \t- steady-state ARLs of CUSUM charts\n",
    "# xcusum.arl  \t- (zero-state) ARLs of CUSUM charts\n",
    "# xcusum.crit   - decision intervals of CUSUM charts\n",
    "# xewma.ad      - steady-state ARLs of EWMA charts\n",
    "# xewma.arl     - (zero-state) ARLs of EWMA charts\n",
    "# xewma.crit    - critical values of EWMA charts\n",
    "\n",
    "#############################################################\n",
    "\n",
    "install.packages(\"spc\")\n",
    "library(spc)\n",
    "\n"
   ]
  }
 ],
 "metadata": {
  "kernelspec": {
   "display_name": "R",
   "language": "R",
   "name": "r"
  },
  "language_info": {
   "codemirror_mode": "r",
   "file_extension": ".r",
   "mimetype": "text/x-r-source",
   "name": "R",
   "pygments_lexer": "r",
   "version": "3.3.0"
  }
 },
 "nbformat": 4,
 "nbformat_minor": 2
}
